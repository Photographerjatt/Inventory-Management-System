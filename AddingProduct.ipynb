{
 "cells": [
  {
   "cell_type": "code",
   "execution_count": 89,
   "id": "51cd16d1",
   "metadata": {},
   "outputs": [],
   "source": [
    "#Insertion of Initial Data"
   ]
  },
  {
   "cell_type": "code",
   "execution_count": 100,
   "id": "07b62e5c",
   "metadata": {},
   "outputs": [],
   "source": [
    "\n",
    "import json\n",
    "\n",
    "record={12023:{\"Name\":\"Dairy Milk\",\"Brand\":\"Cadbury\",\"Category\":\"Chocolate\",\"Price\":20,\"Stock\":250},\n",
    "       12024:{\"Name\":\"5 Star\",\"Brand\":\"Cadbury\",\"Category\":\"Chocolate\",\"Price\":25,\"Stock\":342},\n",
    "       12025:{\"Name\":\"Tata Tea\",\"Brand\":\"Tata\",\"Category\":\"Tea\",\"Price\":65,\"Stock\":123},\n",
    "       12026:{\"Name\":\"Tata Salt\",\"Brand\":\"Tata\",\"Category\":\"Kitchen\",\"Price\":35,\"Stock\":213},\n",
    "       12027:{\"Name\":\"Fanta\",\"Brand\":\"Coca Cola\",\"Category\":\"Juice and Drinks\",\"Price\":75,\"Stock\":150},\n",
    "       12028:{\"Name\":\"Sprite\",\"Brand\":\"Coca Cola\",\"Category\":\"Juice and Drinks\",\"Price\":78,\"Stock\":142},\n",
    "       12029:{\"Name\":\"Lays Magic Masala\",\"Brand\":\"Lays\",\"Category\":\"Chips\",\"Price\":20,\"Stock\":320},\n",
    "       12030:{\"Name\":\"Good Day\",\"Brand\":\"Britannia\",\"Category\":\"Biscuit and Cookies\",\"Price\":15,\"Stock\":532},\n",
    "       12032:{\"Name\":\"Haldiram Khatta Metha\",\"Brand\":\"Haldiram\",\"Category\":\"Namkeen\",\"Price\":45,\"Stock\":231},\n",
    "       12035:{\"Name\":\"Bingo Chilli Sprinkled\",\"Brand\":\"Bingo\",\"Category\":\"Chips\",\"Price\":20,\"Stock\":432},\n",
    "       12038:{\"Name\":\"Wagh Bakri\",\"Brand\":\"Wagh Bakri\",\"Category\":\"Tea\",\"Price\":120,\"Stock\":182},\n",
    "       12041:{\"Name\":\"Perk\",\"Brand\":\"Cadbury\",\"Category\":\"Chocolate\",\"Price\":5,\"Stock\":625},\n",
    "       12045:{\"Name\":\"Everest Hingraj\",\"Brand\":\"Everest\",\"Category\":\"Kitchen\",\"Price\":42,\"Stock\":253},\n",
    "       12056:{\"Name\":\"Moong Daal\",\"Brand\":\"Tata\",\"Category\":\"Kitchen\",\"Price\":75,\"Stock\":264},\n",
    "       12058:{\"Name\":\"Mirinda\",\"Brand\":\"Mirinda\",\"Category\":\"Juice and Drinks\",\"Price\":74,\"Stock\":211},\n",
    "       12067:{\"Name\":\"Anticeptic Disinfectant Liquid\",\"Brand\":\"Dettol\",\"Category\":\"Health and Medicine\",\"Price\":54,\"Stock\":256},\n",
    "       12068:{\"Name\":\"Red Label Tea\",\"Brand\":\"Red Label\",\"Category\":\"Tea\",\"Price\":102,\"Stock\":132},\n",
    "       12071:{\"Name\":\"Nescafe Sunrise Coffee\",\"Brand\":\"Nescafe\",\"Category\":\"Coffee\",\"Price\":20,\"Stock\":823},\n",
    "       12072:{\"Name\":\"Bourbon Chocolate Cream Biscuits\",\"Brand\":\"Sunfeast\",\"Category\":\"Biscuit and Cookies\",\"Price\":26,\"Stock\":129},\n",
    "       12074:{\"Name\":\"Colgate Toothpaste\",\"Brand\":\"Colgate\",\"Category\":\"Toothpaste\",\"Price\":20,\"Stock\":302},\n",
    "       12077:{\"Name\":\"Fortune Premium Musturd Oil\",\"Brand\":\"Fortune\",\"Category\":\"Edible Oil\",\"Price\":180,\"Stock\":142},\n",
    "       12079:{\"Name\":\"Liquid Detergent\",\"Brand\":\"Surf Excel\",\"Category\":\"Detergent\",\"Price\":195,\"Stock\":254},\n",
    "       12081:{\"Name\":\"Bru Instant Coffee\",\"Brand\":\"Bru\",\"Category\":\"Coffee\",\"Price\":80,\"Stock\":245},\n",
    "       12085:{\"Name\":\"Dettol Bath Soap\",\"Brand\":\"Dettol\",\"Category\":\"Bath Soap\",\"Price\":18,\"Stock\":734},\n",
    "       12093:{\"Name\":\"Bathroom Cleaning Liquid\",\"Brand\":\"Harpic\",\"Category\":\"Toilet Cleaner\",\"Price\":107,\"Stock\":232},\n",
    "       12094:{\"Name\":\"Packged Coconut Water\",\"Brand\":\"Raw Pressary\",\"Category\":\"Juice and Drinks\",\"Price\":50,\"Stock\":197},\n",
    "       12097:{\"Name\":\"Instant Noodles Masala\",\"Brand\":\"Nestle\",\"Category\":\"Noodles\",\"Price\":80,\"Stock\":434},\n",
    "       12103:{\"Name\":\"Idly and Dosa Batter\",\"Brand\":\"ID Fresho\",\"Category\":\"Kitchen\",\"Price\":150,\"Stock\":106},\n",
    "       12107:{\"Name\":\"Dishwash Liquid Gel\",\"Brand\":\"Vim\",\"Category\":\"Dishwash\",\"Price\":97,\"Stock\":237},\n",
    "       12111:{\"Name\":\"Ultra Alkaline Battery AA\",\"Brand\":\"Duracell\",\"Category\":\"Battery\",\"Price\":50,\"Stock\":532}}\n",
    "\n",
    "js=json.dumps(record)\n",
    "\n",
    "fd=open(\"Record.json\",'w')\n",
    "fd.write(js)\n",
    "fd.close()\n",
    "\n",
    "\n",
    "\n"
   ]
  },
  {
   "cell_type": "code",
   "execution_count": 110,
   "id": "182cb332",
   "metadata": {},
   "outputs": [],
   "source": [
    "#Open Record.json File\n",
    "fd1=open(\"Record.json\",'r')\n",
    "r=fd1.read()\n",
    "fd1.close()\n",
    "\n",
    "record=json.loads(r)\n"
   ]
  },
  {
   "cell_type": "code",
   "execution_count": 101,
   "id": "e4cc1509",
   "metadata": {},
   "outputs": [],
   "source": [
    "#Adding Product in inventory\n",
    "product_id=str(input(\"\\nEnter the Product ID:\"))\n",
    "name=input(\"\\nEnter the Name:\")\n",
    "brand=input(\"\\nEnter the Brand:\")\n",
    "category=input(\"\\nEnter the Category:\")\n",
    "price=int(input(\"\\nEnter the Price:\"))\n",
    "stock=int(input(\"\\nEnter the Stock\"))\n",
    "\n",
    "for i in record:\n",
    "    if product_id==i:\n",
    "        record[i]={\"Name\":record[i]['Name'],\"Brand\":record[i]['Brand'],\"Category\":record[i]['Category'],\"Price\":record[i]['Price'],\"Stock\":record[i]['Stock']+stock}\n",
    "        break;\n",
    "            \n",
    "    else:\n",
    "        record[product_id]={\"Name\":name,\"Brand\":brand,\"Category\":category,\"Price\":price,\"Stock\":stock}\n",
    "        \n",
    "        \n",
    "js1=json.dumps(record)\n",
    "\n",
    "fd2=open(\"Record.json\",'w')\n",
    "fd2.write(js1)\n",
    "fd2.close()"
   ]
  },
  {
   "cell_type": "code",
   "execution_count": null,
   "id": "71f5a99b",
   "metadata": {},
   "outputs": [],
   "source": [
    "#Writing the data in JSON file\n",
    "js1=json.dumps(record)\n",
    "\n",
    "fd2=open(\"Record.json\",'w')\n",
    "fd2.write(js1)\n",
    "fd2.close()\n",
    "          "
   ]
  }
 ],
 "metadata": {
  "kernelspec": {
   "display_name": "Python 3",
   "language": "python",
   "name": "python3"
  },
  "language_info": {
   "codemirror_mode": {
    "name": "ipython",
    "version": 3
   },
   "file_extension": ".py",
   "mimetype": "text/x-python",
   "name": "python",
   "nbconvert_exporter": "python",
   "pygments_lexer": "ipython3",
   "version": "3.8.8"
  }
 },
 "nbformat": 4,
 "nbformat_minor": 5
}
