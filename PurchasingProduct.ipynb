{
 "cells": [
  {
   "cell_type": "code",
   "execution_count": 101,
   "id": "e0d1d842",
   "metadata": {},
   "outputs": [],
   "source": [
    "import json\n",
    "\n",
    "#Opening Record File\n",
    "\n",
    "fd=open(\"Record.json\",'r')\n",
    "r=fd.read()\n",
    "fd.close()\n",
    "record=json.loads(r)\n",
    "\n",
    "\n",
    "#Show List of products from Record.json File\n",
    "print(\"***List of Products present in the Record***\")\n",
    "print(\"S.No.\\tProduct ID\\tProduct\")\n",
    "a=1\n",
    "for i in record:\n",
    "    print(a,\"\\t\",i,\"\\t\\t\",record[i]['Name'])\n",
    "    a+=1"
   ]
  },
  {
   "cell_type": "code",
   "execution_count": 136,
   "id": "cfebe3c0",
   "metadata": {},
   "outputs": [
    {
     "name": "stdout",
     "output_type": "stream",
     "text": [
      "Enter the product id:12023\n",
      "Enter the quantity:1\n",
      "Product: Dairy Milk\n",
      "Price: 20\n",
      "Billing Amount: 20\n"
     ]
    }
   ],
   "source": [
    "#Purchase details from buyer\n",
    "\n",
    "product_id=str(input(\"Enter the product id:\"))\n",
    "quantity=int(input(\"Enter the quantity:\"))\n",
    "\n",
    "\n",
    "\n",
    "\n",
    "if record[product_id]['Stock']-quantity>=0:\n",
    "    print(\"Product:\",record[product_id]['Name'])\n",
    "    print(\"Price:\",record[product_id]['Price'])\n",
    "    print(\"Billing Amount:\",record[product_id]['Price']*quantity)\n",
    "    record[product_id]['Stock']=record[product_id]['Stock']-quantity\n",
    "    \n",
    "    fd=open(\"Sales.json\",'r')\n",
    "    l=fd.read()\n",
    "    fd.close()\n",
    "      \n",
    "    sales=json.loads(l)\n",
    "  \n",
    "    \n",
    "    \n",
    "    #Updating JSON Sales file\n",
    "    price=record[product_id]['Price']\n",
    "    amount=record[product_id]['Price']*quantity\n",
    "    sales[2013+len(sales)]={\"Product ID\":product_id,\"Product\":record[product_id]['Name'],\"Price\":price,\"Quantity\":quantity,\"Bill Amount\":amount}\n",
    " \n",
    "else:\n",
    "    print(\"\\nNot Enough Stock\")\n",
    "\n",
    "\n",
    "#Updation of inventory in Record.json File\n",
    "js=json.dumps(record)\n",
    "fd2=open(\"Record.json\",'w')\n",
    "fd2.write(js)\n",
    "fd2.close()\n",
    "\n",
    "\n",
    "#Updation of Inventory in Sales.json File\n",
    "js1=json.dumps(sales)\n",
    "    \n",
    "fd2=open(\"Sales.json\",'w')\n",
    "fd2.write(js1)\n",
    "fd2.close()    "
   ]
  },
  {
   "cell_type": "code",
   "execution_count": 102,
   "id": "7ee88c21",
   "metadata": {},
   "outputs": [],
   "source": [
    "\n"
   ]
  }
 ],
 "metadata": {
  "kernelspec": {
   "display_name": "Python 3",
   "language": "python",
   "name": "python3"
  },
  "language_info": {
   "codemirror_mode": {
    "name": "ipython",
    "version": 3
   },
   "file_extension": ".py",
   "mimetype": "text/x-python",
   "name": "python",
   "nbconvert_exporter": "python",
   "pygments_lexer": "ipython3",
   "version": "3.8.8"
  }
 },
 "nbformat": 4,
 "nbformat_minor": 5
}
